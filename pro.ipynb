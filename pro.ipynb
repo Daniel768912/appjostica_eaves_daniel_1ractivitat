{
 "cells": [
  {
   "cell_type": "markdown",
   "id": "5e3c0ace",
   "metadata": {},
   "source": [
    "Excercici 1: Enters"
   ]
  },
  {
   "cell_type": "markdown",
   "id": "f53ce4f2",
   "metadata": {},
   "source": [
    "a"
   ]
  },
  {
   "cell_type": "code",
   "execution_count": 5,
   "id": "2d3e39df",
   "metadata": {},
   "outputs": [],
   "source": [
    "preu_entrada=8.35\n"
   ]
  },
  {
   "cell_type": "code",
   "execution_count": 23,
   "id": "37c63a17",
   "metadata": {},
   "outputs": [],
   "source": [
    "nombre_entrada=1"
   ]
  },
  {
   "cell_type": "code",
   "execution_count": 36,
   "id": "7ba5c402",
   "metadata": {},
   "outputs": [],
   "source": [
    "cost_total = nombre_entrada * preu_entrada"
   ]
  },
  {
   "cell_type": "code",
   "execution_count": 26,
   "id": "f3c1614f",
   "metadata": {},
   "outputs": [
    {
     "name": "stdout",
     "output_type": "stream",
     "text": [
      "8.35\n"
     ]
    }
   ],
   "source": [
    "print(cost_total)"
   ]
  },
  {
   "cell_type": "code",
   "execution_count": 29,
   "id": "963a1e4e",
   "metadata": {},
   "outputs": [
    {
     "data": {
      "text/plain": [
       "8.35"
      ]
     },
     "execution_count": 29,
     "metadata": {},
     "output_type": "execute_result"
    }
   ],
   "source": [
    "nombre_entrada * preu_entrada\n",
    "cost_total"
   ]
  },
  {
   "cell_type": "code",
   "execution_count": 40,
   "id": "cd24b5b1",
   "metadata": {},
   "outputs": [
    {
     "data": {
      "text/plain": [
       "41.75"
      ]
     },
     "execution_count": 40,
     "metadata": {},
     "output_type": "execute_result"
    }
   ],
   "source": [
    "cost_total = 5*nombre_entrada * preu_entrada\n",
    "cost_total\n",
    "\n"
   ]
  },
  {
   "cell_type": "code",
   "execution_count": 42,
   "id": "12ffabf4",
   "metadata": {},
   "outputs": [
    {
     "data": {
      "text/plain": [
       "2955.9"
      ]
     },
     "execution_count": 42,
     "metadata": {},
     "output_type": "execute_result"
    }
   ],
   "source": [
    "cost_total = 354*nombre_entrada * preu_entrada\n",
    "cost_total"
   ]
  },
  {
   "cell_type": "markdown",
   "id": "b0b8d784",
   "metadata": {},
   "source": [
    "b"
   ]
  },
  {
   "cell_type": "code",
   "execution_count": 55,
   "id": "17445c41",
   "metadata": {},
   "outputs": [],
   "source": [
    "nombre_entrades_retornades=4\n",
    "percentatge=0.88\n",
    "preu_entrada=8.35\n",
    "nombre_entrades=1\n"
   ]
  },
  {
   "cell_type": "code",
   "execution_count": 119,
   "id": "9ad93b2b",
   "metadata": {},
   "outputs": [
    {
     "data": {
      "text/plain": [
       "29.392"
      ]
     },
     "execution_count": 119,
     "metadata": {},
     "output_type": "execute_result"
    }
   ],
   "source": [
    "diners_retornats=nombre_entrades_retorndaes*preu_entrada*percentatge\n",
    "diners_retornats\n"
   ]
  },
  {
   "cell_type": "markdown",
   "id": "b52cf002",
   "metadata": {},
   "source": [
    "Excercici 2"
   ]
  },
  {
   "cell_type": "code",
   "execution_count": 64,
   "id": "20e3ace2",
   "metadata": {},
   "outputs": [],
   "source": [
    "poblacio=1000\n",
    "infectats_inicials=10\n",
    "taxa_contagi=0.01\n",
    "dies=5\n",
    "\n",
    "infectats= infectats_inicials + (poblacio-infectats_inicials)*(1-(1-taxa_contagi)**dies)"
   ]
  },
  {
   "cell_type": "code",
   "execution_count": 65,
   "id": "8c06e3ce",
   "metadata": {},
   "outputs": [
    {
     "data": {
      "text/plain": [
       "58.51985059900009"
      ]
     },
     "execution_count": 65,
     "metadata": {},
     "output_type": "execute_result"
    }
   ],
   "source": [
    "infectats"
   ]
  },
  {
   "cell_type": "markdown",
   "id": "6c5fa42b",
   "metadata": {},
   "source": [
    "Excercici 3"
   ]
  },
  {
   "cell_type": "code",
   "execution_count": 97,
   "id": "8304c32c",
   "metadata": {},
   "outputs": [],
   "source": [
    "pi =3.141 \n",
    "r=10 \n",
    "r1=20\n"
   ]
  },
  {
   "cell_type": "code",
   "execution_count": 80,
   "id": "cfdb698a",
   "metadata": {},
   "outputs": [
    {
     "data": {
      "text/plain": [
       "62.82"
      ]
     },
     "execution_count": 80,
     "metadata": {},
     "output_type": "execute_result"
    }
   ],
   "source": [
    "p= 2*pi*r\n",
    "p"
   ]
  },
  {
   "cell_type": "code",
   "execution_count": 82,
   "id": "c4dbf1f4",
   "metadata": {},
   "outputs": [
    {
     "data": {
      "text/plain": [
       "314.1"
      ]
     },
     "execution_count": 82,
     "metadata": {},
     "output_type": "execute_result"
    }
   ],
   "source": [
    "a= pi* r**2\n",
    "a"
   ]
  },
  {
   "cell_type": "code",
   "execution_count": 87,
   "id": "4836f7c3",
   "metadata": {},
   "outputs": [
    {
     "data": {
      "text/plain": [
       "4188.0"
      ]
     },
     "execution_count": 87,
     "metadata": {},
     "output_type": "execute_result"
    }
   ],
   "source": [
    "v= (4/3)*pi*r**3\n",
    "v"
   ]
  },
  {
   "cell_type": "code",
   "execution_count": 99,
   "id": "4628f456",
   "metadata": {},
   "outputs": [
    {
     "data": {
      "text/plain": [
       "125.64"
      ]
     },
     "execution_count": 99,
     "metadata": {},
     "output_type": "execute_result"
    }
   ],
   "source": [
    "p1= 2*pi*r1\n",
    "p1"
   ]
  },
  {
   "cell_type": "code",
   "execution_count": 100,
   "id": "3b3727df",
   "metadata": {},
   "outputs": [
    {
     "data": {
      "text/plain": [
       "1256.4"
      ]
     },
     "execution_count": 100,
     "metadata": {},
     "output_type": "execute_result"
    }
   ],
   "source": [
    "a1= pi* r1**2\n",
    "a1"
   ]
  },
  {
   "cell_type": "code",
   "execution_count": 101,
   "id": "19809ce9",
   "metadata": {},
   "outputs": [
    {
     "data": {
      "text/plain": [
       "33504.0"
      ]
     },
     "execution_count": 101,
     "metadata": {},
     "output_type": "execute_result"
    }
   ],
   "source": [
    "v1= (4/3)*pi*r1**3\n",
    "v1"
   ]
  },
  {
   "cell_type": "code",
   "execution_count": 103,
   "id": "508e1900",
   "metadata": {},
   "outputs": [
    {
     "name": "stdout",
     "output_type": "stream",
     "text": [
      "Pel radi 10, el perímetre és 62.82 m, l'àrea és 314.1 m2, i el volum és 4188.0 m3.\n"
     ]
    }
   ],
   "source": [
    "print(f\"Pel radi {r}, el perímetre és {p} m, l'àrea és {a} m2, i el volum és {v} m3.\")"
   ]
  },
  {
   "cell_type": "code",
   "execution_count": 104,
   "id": "e48257eb",
   "metadata": {},
   "outputs": [
    {
     "name": "stdout",
     "output_type": "stream",
     "text": [
      "Pel radi 20, el perímetre és 125.64 m, l'àrea és 1256.4 m2, i el volum és 33504.0 m3.\n"
     ]
    }
   ],
   "source": [
    "print(f\"Pel radi {r1}, el perímetre és {p1} m, l'àrea és {a1} m2, i el volum és {v1} m3.\")"
   ]
  },
  {
   "cell_type": "markdown",
   "id": "56c77507",
   "metadata": {},
   "source": [
    "Excercici 4"
   ]
  },
  {
   "cell_type": "code",
   "execution_count": 89,
   "id": "f06e281d",
   "metadata": {},
   "outputs": [],
   "source": [
    "nom=\"Daniel Eaves\""
   ]
  },
  {
   "cell_type": "code",
   "execution_count": 93,
   "id": "709eae67",
   "metadata": {},
   "outputs": [
    {
     "data": {
      "text/plain": [
       "'D'"
      ]
     },
     "execution_count": 93,
     "metadata": {},
     "output_type": "execute_result"
    }
   ],
   "source": [
    "primera_lletra = nom[0]\n",
    "primera_lletra"
   ]
  },
  {
   "cell_type": "code",
   "execution_count": 96,
   "id": "7652f027",
   "metadata": {},
   "outputs": [
    {
     "data": {
      "text/plain": [
       "'s'"
      ]
     },
     "execution_count": 96,
     "metadata": {},
     "output_type": "execute_result"
    }
   ],
   "source": [
    "ultima_lletra = nom[11]\n",
    "ultima_lletra"
   ]
  },
  {
   "cell_type": "code",
   "execution_count": 106,
   "id": "eaa6d212",
   "metadata": {},
   "outputs": [
    {
     "data": {
      "text/plain": [
       "'nie'"
      ]
     },
     "execution_count": 106,
     "metadata": {},
     "output_type": "execute_result"
    }
   ],
   "source": [
    "tres_lletres=nom[2:5]\n",
    "tres_lletres"
   ]
  },
  {
   "cell_type": "code",
   "execution_count": 108,
   "id": "9b517d4d",
   "metadata": {},
   "outputs": [
    {
     "data": {
      "text/plain": [
       "'DANIEL EAVES'"
      ]
     },
     "execution_count": 108,
     "metadata": {},
     "output_type": "execute_result"
    }
   ],
   "source": [
    "nom_M= nom.upper()\n",
    "nom_M"
   ]
  },
  {
   "cell_type": "code",
   "execution_count": 109,
   "id": "3c66bc9b",
   "metadata": {},
   "outputs": [
    {
     "data": {
      "text/plain": [
       "'daniel eaves'"
      ]
     },
     "execution_count": 109,
     "metadata": {},
     "output_type": "execute_result"
    }
   ],
   "source": [
    "nom_m= nom.lower()\n",
    "nom_m"
   ]
  },
  {
   "cell_type": "code",
   "execution_count": 111,
   "id": "c8340cbc",
   "metadata": {},
   "outputs": [
    {
     "data": {
      "text/plain": [
       "12"
      ]
     },
     "execution_count": 111,
     "metadata": {},
     "output_type": "execute_result"
    }
   ],
   "source": [
    "llargada_nom=len(nom)\n",
    "llargada_nom"
   ]
  },
  {
   "cell_type": "code",
   "execution_count": 120,
   "id": "fac20a26",
   "metadata": {},
   "outputs": [
    {
     "name": "stdout",
     "output_type": "stream",
     "text": [
      "Hola, el meu nom és Daniel Eaves.\n",
      "La primera lletra del meu nom és D.\n",
      "L'úlitma lletra del meu nom és s.\n",
      "Els tres caràcters entre la posició 2 i la posició 5 són: nie.\n",
      "El meu nom, amb espais, té 12 caràcters.\n",
      "El meu nom en majúscules es veu així: DANIEL EAVES. \n",
      "El meu nom en minúscules es veu així: daniel eaves.\n"
     ]
    }
   ],
   "source": [
    "print(f\"Hola, el meu nom és {nom}.\\nLa primera lletra del meu nom és {primera_lletra}.\\nL'úlitma lletra del meu nom és {ultima_lletra}.\\nEls tres caràcters entre la posició 2 i la posició 5 són: {tres_lletres}.\\nEl meu nom, amb espais, té {llargada_nom} caràcters.\\nEl meu nom en majúscules es veu així: {nom_M}. \\nEl meu nom en minúscules es veu així: {nom_m}.\")"
   ]
  }
 ],
 "metadata": {
  "kernelspec": {
   "display_name": "Python 3",
   "language": "python",
   "name": "python3"
  },
  "language_info": {
   "codemirror_mode": {
    "name": "ipython",
    "version": 3
   },
   "file_extension": ".py",
   "mimetype": "text/x-python",
   "name": "python",
   "nbconvert_exporter": "python",
   "pygments_lexer": "ipython3",
   "version": "3.13.7"
  }
 },
 "nbformat": 4,
 "nbformat_minor": 5
}
